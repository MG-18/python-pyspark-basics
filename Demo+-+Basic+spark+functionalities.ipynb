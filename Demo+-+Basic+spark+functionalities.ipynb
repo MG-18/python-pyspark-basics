{
 "cells": [
  {
   "cell_type": "markdown",
   "metadata": {
    "toc": true
   },
   "source": [
    "<h1>Table of Contents<span class=\"tocSkip\"></span></h1>\n",
    "<div class=\"toc\"><ul class=\"toc-item\"><li><span><a href=\"#Import-necessary-modules-form-spark-package\" data-toc-modified-id=\"Import-necessary-modules-form-spark-package-1\"><span class=\"toc-item-num\">1&nbsp;&nbsp;</span>Import necessary modules form spark package</a></span></li><li><span><a href=\"#Spark-is-camel-case-type-language\" data-toc-modified-id=\"Spark-is-camel-case-type-language-2\"><span class=\"toc-item-num\">2&nbsp;&nbsp;</span>Spark is camel case type language</a></span></li><li><span><a href=\"#Initialize-Hive-context\" data-toc-modified-id=\"Initialize-Hive-context-3\"><span class=\"toc-item-num\">3&nbsp;&nbsp;</span>Initialize Hive context</a></span></li><li><span><a href=\"#Read-data-from-Hive\" data-toc-modified-id=\"Read-data-from-Hive-4\"><span class=\"toc-item-num\">4&nbsp;&nbsp;</span>Read data from Hive</a></span></li><li><span><a href=\"#Spark-is-lazy-loading,-that-means-unless-you-call-a-action-command-it-will-not-process-anything,-only-syntactical-check-will-be-done-till-the-action-called\" data-toc-modified-id=\"Spark-is-lazy-loading,-that-means-unless-you-call-a-action-command-it-will-not-process-anything,-only-syntactical-check-will-be-done-till-the-action-called-5\"><span class=\"toc-item-num\">5&nbsp;&nbsp;</span>Spark is lazy loading, that means unless you call a action command it will not process anything, only syntactical check will be done till the action called</a></span></li><li><span><a href=\"#Call-action-instead---Action-is-anything-that-will-ask-spark-to-show-you-data-like-count(),-show(),-toPandas()\" data-toc-modified-id=\"Call-action-instead---Action-is-anything-that-will-ask-spark-to-show-you-data-like-count(),-show(),-toPandas()-6\"><span class=\"toc-item-num\">6&nbsp;&nbsp;</span>Call action instead - Action is anything that will ask spark to show you data like count(), show(), toPandas()</a></span></li><li><span><a href=\"#We-can-cache-data-to-query-more-faster-as-caching-stores-data-in-RAM-and-will-process-without-any-delay\" data-toc-modified-id=\"We-can-cache-data-to-query-more-faster-as-caching-stores-data-in-RAM-and-will-process-without-any-delay-7\"><span class=\"toc-item-num\">7&nbsp;&nbsp;</span>We can cache data to query more faster as caching stores data in RAM and will process without any delay</a></span></li><li><span><a href=\"#Check-the-head-of-the-dataframe\" data-toc-modified-id=\"Check-the-head-of-the-dataframe-8\"><span class=\"toc-item-num\">8&nbsp;&nbsp;</span>Check the head of the dataframe</a></span></li><li><span><a href=\"#Head-in-the-tabular-format-is-the-above-one-is-kind-of-messy\" data-toc-modified-id=\"Head-in-the-tabular-format-is-the-above-one-is-kind-of-messy-9\"><span class=\"toc-item-num\">9&nbsp;&nbsp;</span>Head in the tabular format is the above one is kind of messy</a></span></li><li><span><a href=\"#Check-for-the-schema-and-datatypes-of-all-attributes\" data-toc-modified-id=\"Check-for-the-schema-and-datatypes-of-all-attributes-10\"><span class=\"toc-item-num\">10&nbsp;&nbsp;</span>Check for the schema and datatypes of all attributes</a></span></li><li><span><a href=\"#Filtering-over-a-column\" data-toc-modified-id=\"Filtering-over-a-column-11\"><span class=\"toc-item-num\">11&nbsp;&nbsp;</span>Filtering over a column</a></span></li><li><span><a href=\"#You-can-always-add-more-filters-like-that-in-new-line-but-they-all-work-as-an-AND-filters\" data-toc-modified-id=\"You-can-always-add-more-filters-like-that-in-new-line-but-they-all-work-as-an-AND-filters-12\"><span class=\"toc-item-num\">12&nbsp;&nbsp;</span>You can always add more filters like that in new line but they all work as an AND filters</a></span></li><li><span><a href=\"#Adding-multiple-filters-inside-one-filter-condition-using-OR-or-AND\" data-toc-modified-id=\"Adding-multiple-filters-inside-one-filter-condition-using-OR-or-AND-13\"><span class=\"toc-item-num\">13&nbsp;&nbsp;</span>Adding multiple filters inside one filter condition using OR or AND</a></span></li><li><span><a href=\"#Using-like-and-isin-inside-filter\" data-toc-modified-id=\"Using-like-and-isin-inside-filter-14\"><span class=\"toc-item-num\">14&nbsp;&nbsp;</span>Using like and isin inside filter</a></span></li><li><span><a href=\"#Selecting-a-column-or-couple-of-column-using-select()\" data-toc-modified-id=\"Selecting-a-column-or-couple-of-column-using-select()-15\"><span class=\"toc-item-num\">15&nbsp;&nbsp;</span>Selecting a column or couple of column using select()</a></span></li><li><span><a href=\"#Add-a-new-calculative-column-using-withColumn\" data-toc-modified-id=\"Add-a-new-calculative-column-using-withColumn-16\"><span class=\"toc-item-num\">16&nbsp;&nbsp;</span>Add a new calculative column using withColumn</a></span></li><li><span><a href=\"#renaming-an-existing-column-using-withColumnRenamed()\" data-toc-modified-id=\"renaming-an-existing-column-using-withColumnRenamed()-17\"><span class=\"toc-item-num\">17&nbsp;&nbsp;</span>renaming an existing column using withColumnRenamed()</a></span></li><li><span><a href=\"#Grouping-by-things-and-see-the-aggregated-stuff\" data-toc-modified-id=\"Grouping-by-things-and-see-the-aggregated-stuff-18\"><span class=\"toc-item-num\">18&nbsp;&nbsp;</span>Grouping by things and see the aggregated stuff</a></span></li><li><span><a href=\"#Joining-dataframes\" data-toc-modified-id=\"Joining-dataframes-19\"><span class=\"toc-item-num\">19&nbsp;&nbsp;</span>Joining dataframes</a></span></li><li><span><a href=\"#Union-a-datsframe,-in-spark-veriosn-1.6-we-don't-have-union-functionality,-we-use-unionall\" data-toc-modified-id=\"Union-a-datsframe,-in-spark-veriosn-1.6-we-don't-have-union-functionality,-we-use-unionall-20\"><span class=\"toc-item-num\">20&nbsp;&nbsp;</span>Union a datsframe, in spark veriosn 1.6 we don't have union functionality, we use unionall</a></span></li><li><span><a href=\"#Write-things-back-to-hive\" data-toc-modified-id=\"Write-things-back-to-hive-21\"><span class=\"toc-item-num\">21&nbsp;&nbsp;</span>Write things back to hive</a></span></li><li><span><a href=\"#Want-help-visit\" data-toc-modified-id=\"Want-help-visit-22\"><span class=\"toc-item-num\">22&nbsp;&nbsp;</span>Want help visit</a></span></li></ul></div>"
   ]
  },
  {
   "cell_type": "markdown",
   "metadata": {},
   "source": [
    "#### Import necessary modules form spark package"
   ]
  },
  {
   "cell_type": "code",
   "execution_count": 2,
   "metadata": {
    "ExecuteTime": {
     "end_time": "2018-03-29T21:03:56.973915Z",
     "start_time": "2018-03-29T21:03:56.964303Z"
    },
    "collapsed": true
   },
   "outputs": [],
   "source": [
    "from pyspark.context import SparkContext,SparkConf\n",
    "from pyspark.sql import HiveContext\n",
    "from pyspark.sql.functions import *\n",
    "import pandas as pd\n",
    "import numpy as np"
   ]
  },
  {
   "cell_type": "code",
   "execution_count": 2,
   "metadata": {
    "ExecuteTime": {
     "end_time": "2018-03-29T21:03:57.450067Z",
     "start_time": "2018-03-29T21:03:57.440760Z"
    }
   },
   "outputs": [
    {
     "name": "stdout",
     "output_type": "stream",
     "text": [
      "\n",
      "PySpark is the Python API for Spark.\n",
      "\n",
      "Public classes:\n",
      "\n",
      "  - :class:`SparkContext`:\n",
      "      Main entry point for Spark functionality.\n",
      "  - :class:`RDD`:\n",
      "      A Resilient Distributed Dataset (RDD), the basic abstraction in Spark.\n",
      "  - :class:`Broadcast`:\n",
      "      A broadcast variable that gets reused across tasks.\n",
      "  - :class:`Accumulator`:\n",
      "      An \"add-only\" shared variable that tasks can only add values to.\n",
      "  - :class:`SparkConf`:\n",
      "      For configuring Spark.\n",
      "  - :class:`SparkFiles`:\n",
      "      Access files shipped with jobs.\n",
      "  - :class:`StorageLevel`:\n",
      "      Finer-grained cache persistence levels.\n",
      "\n",
      "\n"
     ]
    }
   ],
   "source": [
    "print pyspark.__doc__"
   ]
  },
  {
   "cell_type": "code",
   "execution_count": 3,
   "metadata": {
    "ExecuteTime": {
     "end_time": "2018-03-29T20:40:20.727132Z",
     "start_time": "2018-03-29T20:40:20.717743Z"
    }
   },
   "outputs": [
    {
     "name": "stdout",
     "output_type": "stream",
     "text": [
      "1.6.3\n"
     ]
    }
   ],
   "source": [
    "print sc.version"
   ]
  },
  {
   "cell_type": "markdown",
   "metadata": {},
   "source": [
    "#### Spark is camel case type language\n",
    "* Not a strict Camel type but does follow the systematic pattern\n",
    "        *filter()\n",
    "        *withColumn()\n",
    "        *withColumnRenamed()\n",
    "        *registerTempTable()\n",
    "\n",
    "Above are some of the functions which shows the camel case type structure among all the function names"
   ]
  },
  {
   "cell_type": "markdown",
   "metadata": {},
   "source": [
    "#### Initialize Hive context"
   ]
  },
  {
   "cell_type": "code",
   "execution_count": 3,
   "metadata": {
    "ExecuteTime": {
     "end_time": "2018-03-29T21:04:02.488777Z",
     "start_time": "2018-03-29T21:04:02.480542Z"
    },
    "scrolled": true
   },
   "outputs": [
    {
     "name": "stdout",
     "output_type": "stream",
     "text": [
      "<pyspark.context.SparkContext object at 0x7fb8adaae290>\n",
      "<pyspark.sql.context.HiveContext object at 0x7fb8ad846790>\n"
     ]
    }
   ],
   "source": [
    "print sc\n",
    "hc = HiveContext(sc)\n",
    "print hc"
   ]
  },
  {
   "cell_type": "markdown",
   "metadata": {},
   "source": [
    "#### Read data from Hive"
   ]
  },
  {
   "cell_type": "code",
   "execution_count": 5,
   "metadata": {
    "ExecuteTime": {
     "end_time": "2018-03-29T21:04:19.132961Z",
     "start_time": "2018-03-29T21:04:04.258162Z"
    }
   },
   "outputs": [
    {
     "data": {
      "text/plain": [
       "8745276"
      ]
     },
     "execution_count": 5,
     "metadata": {},
     "output_type": "execute_result"
    }
   ],
   "source": [
    "df = hc.table('prod_ca_medicare_enc.aep_base')\n",
    "df.count()"
   ]
  },
  {
   "cell_type": "markdown",
   "metadata": {},
   "source": [
    "#### Spark is lazy loading, that means unless you call a action command it will not process anything, only syntactical check will be done till the action called"
   ]
  },
  {
   "cell_type": "code",
   "execution_count": 72,
   "metadata": {
    "ExecuteTime": {
     "end_time": "2018-03-29T19:11:36.379179Z",
     "start_time": "2018-03-29T19:11:36.328621Z"
    }
   },
   "outputs": [
    {
     "name": "stdout",
     "output_type": "stream",
     "text": [
      "CPU times: user 2 ms, sys: 0 ns, total: 2 ms\n",
      "Wall time: 13.5 ms\n",
      "CPU times: user 2 ms, sys: 0 ns, total: 2 ms\n",
      "Wall time: 5.53 ms\n"
     ]
    },
    {
     "data": {
      "text/plain": [
       "DataFrame[quoteid: int, businesstype: string, plansponsorid: int, plansponsorname: string, effectivedate: timestamp, medtabcurrentexp_begindate: string, medtabcurrentexp_enddate: string, medtabpriorexp_begindate: string, medtabpriorexp_enddate: string, useexperienceonly: string, renewal_currentperiod_startdate: string, renewal_currentperiod_enddate: string, renewal_priorperiod_startdate: string, renewal_priorperiod_enddate: string, priorcarrier_currentperiod_startdate: string, priorcarrier_currentperiod_enddate: string, priorcarrier_priorperiod_startdate: string, priorcarrier_priorperiod_enddate: string, addntlpop_currentperiod_startdate: string, addntlpop_currentperiod_enddate: string, addntlpop_priorperiod_startdate: string, addntlpop_priorperiod_enddate: string, experience_credibility_weight_rx: double, experience_credibility_weight_medicalcap: double, experience_credibility_weight_hra: double, total_incurred_net_pooled_claims_prior: float, total_incurred_net_pooled_claims_current: float, total_member_months_prior: double, total_member_months_current: double, total_incurred_claims_pmpm_prior: double, total_incurred_claims_pmpm_current: double, hcc_count_prior: bigint, hcc_count_current: bigint, non_pooled_high_claimaint_dollars_prior: double, non_pooled_high_claimaint_dollars_current: double, non_pooled_high_claimaint_dollars_pmpm_prior: double, non_pooled_high_claimaint_dollars_pmpm_current: double, pooling_charge_dollars_prior: float, pooling_charge_dollars_current: float, pooling_charge_dollars_pmpm_prior: double, pooling_charge_dollars_pmpm_current: double, weights_prior: double, weights_current: double, pooling_charge_prior: float, pooling_charge_current: float, total_adjexpclaims_pmpm_prior: double, total_adjexpclaims_pmpm_current: double, factor_change_claims_prior: double, factor_change_claims_current: double, pooled_claims_prior: double, pooled_claims_current: double, pooling_point_prior: double, pooling_point_current: double, blended_projected_claims_pmpm: double, adjusted_pooling_charge_dollars_prior_pmpm: double, adjusted_pooling_charge_dollars_current_pmpm: double, adjusted_non_pooled_hcc_dollars_prior_pmpm: double, adjusted_non_pooled_hcc_dollars_current_pmpm: double, adjusted_exp_claims_without_pooling_charge_prior_pmpm: double, adjusted_exp_claims_without_pooling_charge_current_pmpm: double, adjusted_exp_claims_without_hcc_pooling_charge_prior_pmpm: double, adjusted_exp_claims_without_hcc_pooling_charge_current_pmpm: double, adjusted_experience_pmpm_blended: double, blended_claims_removing_pooling_charge_pmpm: double, blended_claims_without_hcc_pooling_charge_pmpm: double]"
      ]
     },
     "execution_count": 72,
     "metadata": {},
     "output_type": "execute_result"
    }
   ],
   "source": [
    "%time df.filter(col('quoteid') == '444417')\n",
    "%time df.filter(col('quoteid') == '430018')"
   ]
  },
  {
   "cell_type": "markdown",
   "metadata": {},
   "source": [
    "#### Call action instead - Action is anything that will ask spark to show you data like count(), show(), toPandas()"
   ]
  },
  {
   "cell_type": "code",
   "execution_count": 13,
   "metadata": {
    "ExecuteTime": {
     "end_time": "2018-03-29T14:04:51.008373Z",
     "start_time": "2018-03-29T14:04:46.045538Z"
    }
   },
   "outputs": [
    {
     "name": "stdout",
     "output_type": "stream",
     "text": [
      "1\n",
      "CPU times: user 4 ms, sys: 2 ms, total: 6 ms\n",
      "Wall time: 4.95 s\n"
     ]
    }
   ],
   "source": [
    "%time print df.filter(col('quoteid') == '444417').count()"
   ]
  },
  {
   "cell_type": "markdown",
   "metadata": {},
   "source": [
    "#### We can cache data to query more faster as caching stores data in RAM and will process without any delay\n",
    "* Caching is 3 steps process\n",
    "        Create a temporary table using registerTempTable()\n",
    "        Call hiveContext.cacheTable()\n",
    "        Call any action command to enforce caching"
   ]
  },
  {
   "cell_type": "code",
   "execution_count": 81,
   "metadata": {
    "ExecuteTime": {
     "end_time": "2018-03-29T21:06:08.510722Z",
     "start_time": "2018-03-29T21:06:08.504470Z"
    },
    "collapsed": true
   },
   "outputs": [],
   "source": [
    "df.registerTempTable('df')\n",
    "hc.cacheTable('df')\n",
    "df.count()"
   ]
  },
  {
   "cell_type": "markdown",
   "metadata": {},
   "source": [
    "#### Check the head of the dataframe"
   ]
  },
  {
   "cell_type": "code",
   "execution_count": 31,
   "metadata": {
    "ExecuteTime": {
     "end_time": "2018-03-29T14:23:46.990529Z",
     "start_time": "2018-03-29T14:23:46.667927Z"
    }
   },
   "outputs": [
    {
     "name": "stdout",
     "output_type": "stream",
     "text": [
      "+-------+------------+-------------+--------------------+--------------------+--------------------------+------------------------+------------------------+----------------------+-----------------+-------------------------------+-----------------------------+-----------------------------+---------------------------+------------------------------------+----------------------------------+----------------------------------+--------------------------------+---------------------------------+-------------------------------+-------------------------------+-----------------------------+--------------------------------+----------------------------------------+---------------------------------+--------------------------------------+----------------------------------------+-------------------------+---------------------------+--------------------------------+----------------------------------+---------------+-----------------+---------------------------------------+-----------------------------------------+--------------------------------------------+----------------------------------------------+----------------------------+------------------------------+---------------------------------+-----------------------------------+-------------+---------------+--------------------+----------------------+-----------------------------+-------------------------------+--------------------------+----------------------------+-------------------+---------------------+-------------------+---------------------+-----------------------------+------------------------------------------+--------------------------------------------+------------------------------------------+--------------------------------------------+-----------------------------------------------------+-------------------------------------------------------+---------------------------------------------------------+-----------------------------------------------------------+--------------------------------+-------------------------------------------+----------------------------------------------+\n",
      "|quoteid|businesstype|plansponsorid|     plansponsorname|       effectivedate|medtabcurrentexp_begindate|medtabcurrentexp_enddate|medtabpriorexp_begindate|medtabpriorexp_enddate|useexperienceonly|renewal_currentperiod_startdate|renewal_currentperiod_enddate|renewal_priorperiod_startdate|renewal_priorperiod_enddate|priorcarrier_currentperiod_startdate|priorcarrier_currentperiod_enddate|priorcarrier_priorperiod_startdate|priorcarrier_priorperiod_enddate|addntlpop_currentperiod_startdate|addntlpop_currentperiod_enddate|addntlpop_priorperiod_startdate|addntlpop_priorperiod_enddate|experience_credibility_weight_rx|experience_credibility_weight_medicalcap|experience_credibility_weight_hra|total_incurred_net_pooled_claims_prior|total_incurred_net_pooled_claims_current|total_member_months_prior|total_member_months_current|total_incurred_claims_pmpm_prior|total_incurred_claims_pmpm_current|hcc_count_prior|hcc_count_current|non_pooled_high_claimaint_dollars_prior|non_pooled_high_claimaint_dollars_current|non_pooled_high_claimaint_dollars_pmpm_prior|non_pooled_high_claimaint_dollars_pmpm_current|pooling_charge_dollars_prior|pooling_charge_dollars_current|pooling_charge_dollars_pmpm_prior|pooling_charge_dollars_pmpm_current|weights_prior|weights_current|pooling_charge_prior|pooling_charge_current|total_adjexpclaims_pmpm_prior|total_adjexpclaims_pmpm_current|factor_change_claims_prior|factor_change_claims_current|pooled_claims_prior|pooled_claims_current|pooling_point_prior|pooling_point_current|blended_projected_claims_pmpm|adjusted_pooling_charge_dollars_prior_pmpm|adjusted_pooling_charge_dollars_current_pmpm|adjusted_non_pooled_hcc_dollars_prior_pmpm|adjusted_non_pooled_hcc_dollars_current_pmpm|adjusted_exp_claims_without_pooling_charge_prior_pmpm|adjusted_exp_claims_without_pooling_charge_current_pmpm|adjusted_exp_claims_without_hcc_pooling_charge_prior_pmpm|adjusted_exp_claims_without_hcc_pooling_charge_current_pmpm|adjusted_experience_pmpm_blended|blended_claims_removing_pooling_charge_pmpm|blended_claims_without_hcc_pooling_charge_pmpm|\n",
      "+-------+------------+-------------+--------------------+--------------------+--------------------------+------------------------+------------------------+----------------------+-----------------+-------------------------------+-----------------------------+-----------------------------+---------------------------+------------------------------------+----------------------------------+----------------------------------+--------------------------------+---------------------------------+-------------------------------+-------------------------------+-----------------------------+--------------------------------+----------------------------------------+---------------------------------+--------------------------------------+----------------------------------------+-------------------------+---------------------------+--------------------------------+----------------------------------+---------------+-----------------+---------------------------------------+-----------------------------------------+--------------------------------------------+----------------------------------------------+----------------------------+------------------------------+---------------------------------+-----------------------------------+-------------+---------------+--------------------+----------------------+-----------------------------+-------------------------------+--------------------------+----------------------------+-------------------+---------------------+-------------------+---------------------+-----------------------------+------------------------------------------+--------------------------------------------+------------------------------------------+--------------------------------------------+-----------------------------------------------------+-------------------------------------------------------+---------------------------------------------------------+-----------------------------------------------------------+--------------------------------+-------------------------------------------+----------------------------------------------+\n",
      "| 422031|           R|     93197816|NANDO'S RESTAURAN...|2016-06-01 00:00:...|                2015-06-01|              2015-11-30|                       0|                     0|   ExperienceOnly|            2015-06-01 00:00:00|          2015-11-30 00:00:00|                            0|                          0|                                   0|                                 0|                                 0|                               0|                                0|                              0|                              0|                            0|                    0.2162315551|                            0.2162315551|                              0.0|                             138616.75|                                     0.0|                   1054.0|                        0.0|               142.2077841776843|                               0.0|              0|                0|                                    0.0|                                      0.0|                                         0.0|                                           0.0|                   14745.255|                           0.0|               13.989805391662713|                                0.0|          1.0|            0.0|           1.1063743|                   0.0|           163.88407833678932|                            0.0|         1.152426917305885|                         0.0|                0.0|                  0.0|           125000.0|                  0.0|            225.1546374919267|                                       0.0|                           16.12222830122311|                                       0.0|                                         0.0|                                                  0.0|                                      147.7618500355662|                                                      0.0|                                          147.7618500355662|              163.88407833678932|                          147.7618500355662|                             147.7618500355662|\n",
      "| 423631|           R|     87487526|COMMODITY TRUCKIN...|2016-07-01 00:00:...|                2014-12-01|              2015-11-30|              2013-12-01|            2014-11-30|PriorExpAvailable|            2014-12-01 00:00:00|          2015-11-30 00:00:00|          2013-12-01 00:00:00|        2014-11-30 00:00:00|                                   0|                                 0|                                 0|                               0|                                0|                              0|                              0|                            0|                    0.4467382035|                            0.4467382035|                              0.0|                             433542.78|                               681409.06|                   1769.0|                     1974.0|              255.26652058375885|                  373.382741345511|              0|                1|                                    0.0|                                 125000.0|                                         0.0|                             63.32320162107396|                    64030.32|                    100639.945|                36.19577179903901|                  50.98274838525836|         0.75|           0.25|           1.1476909|             1.1476939|            298.7397739737565|             476.59989179846184|        1.1703053470959701|           1.276437925547926|                0.0|                  0.0|           125000.0|             125000.0|            380.3679543619117|                         65.07631358761105|                           42.36010527868088|                          80.8281361162567|                                         0.0|                                    411.5235782108508|                                      256.3796686950756|                                        330.6954420945941|                                          256.3796686950756|              343.20480342993284|                          295.1656460740194|                             274.9586120449552|\n",
      "| 423831|           R|     15116458|          EDSI, INC.|2016-07-01 00:00:...|                2014-12-01|              2015-11-30|              2013-12-01|            2014-11-30|PriorExpAvailable|            2014-12-01 00:00:00|          2015-11-30 00:00:00|          2013-12-01 00:00:00|        2014-11-30 00:00:00|                                   0|                                 0|                                 0|                               0|                                0|                              0|                              0|                            0|                    0.3934746022|                            0.3934746022|                              0.0|                             685701.75|                               432100.56|                   1634.0|                     1302.0|               456.8921864189442|                 359.4727601556832|              1|                1|                               150000.0|                                 150000.0|                           91.79926560587515|                             115.2073732718894|                    73131.64|                     45969.168|                 44.7562060128519|                  35.30658062115975|         0.75|           0.25|           1.1066523|             1.1063854|            514.1778113566157|              415.4607816355789|        1.1253810562764666|          1.1557503869156815|          167424.76|   112420.73999999999|           150000.0|             150000.0|            523.0633242473821|                         40.80559421357509|                          50.367786397670415|                        133.15096623452553|                          103.30915449294368|                                    374.6551874220038|                                      463.8100249589453|                                       241.50422118747827|                                         360.50087046600163|               489.4985539263565|                         441.52131557470994|                             330.7517081463708|\n",
      "| 425631|           R|     91050657|PASSPORT FOOD GRO...|2016-07-01 00:00:...|                2014-12-01|              2015-11-30|              2014-07-01|            2014-11-30|PriorExpAvailable|            2014-12-01 00:00:00|          2015-11-30 00:00:00|          2014-07-01 00:00:00|        2014-11-30 00:00:00|                                   0|                                 0|                                 0|                               0|                                0|                              0|                              0|                            0|                    0.3636652879|                            0.3636652879|                              0.0|                             336597.84|                               177284.78|                   1703.0|                      710.0|              203.64483471440974|                 265.1589933585083|              0|                0|                                    0.0|                                      0.0|                                         0.0|                                           0.0|                   46905.168|                      24956.35|                 27.5426705629771|                  35.14978818221831|         0.75|           0.25|           1.1393508|             1.1407698|            230.2060537259608|              320.4799803794021|        1.1304291319188151|          1.2086332668569797|                0.0|                  0.0|           125000.0|             125000.0|            259.6063834328466|                         42.48320332000537|                          31.135037175232107|                                       0.0|                                         0.0|                                    277.9967770593967|                                      199.0710165507287|                                        277.9967770593967|                                          199.0710165507287|               252.7745353893211|                          218.8024566778957|                             218.8024566778957|\n",
      "| 425831|           R|     10666296|ARIZONA FOUNDATIO...|2016-08-01 00:00:...|                2015-01-01|              2015-12-31|              2014-01-01|            2014-12-31|PriorExpAvailable|            2015-01-01 00:00:00|          2015-12-31 00:00:00|          2014-01-01 00:00:00|        2014-12-31 00:00:00|                                   0|                                 0|                                 0|                               0|                                0|                              0|                              0|                            0|                    0.4706286028|                            0.4706286028|                              0.0|                              972141.6|                                710584.1|                   2193.0|                     2110.0|               481.0095559987355|                 366.4832955133297|              0|                0|                                    0.0|                                      0.0|                                         0.0|                                           0.0|                    97958.19|                      71602.26|                44.66857615139079|                  33.93471934241706|         0.75|           0.25|                null|             1.1007653|            554.9204006450352|             454.97096745403417|         1.153657746971027|          1.2414507646706259|                0.0|                  0.0|           150000.0|             150000.0|             477.889689967402|                         42.12828327652674|                          51.532248923217246|                                       0.0|                                         0.0|                                    412.8426841775074|                                     503.38815172181796|                                        412.8426841775074|                                         503.38815172181796|                529.933042347285|                         480.75178483574035|                            480.75178483574035|\n",
      "+-------+------------+-------------+--------------------+--------------------+--------------------------+------------------------+------------------------+----------------------+-----------------+-------------------------------+-----------------------------+-----------------------------+---------------------------+------------------------------------+----------------------------------+----------------------------------+--------------------------------+---------------------------------+-------------------------------+-------------------------------+-----------------------------+--------------------------------+----------------------------------------+---------------------------------+--------------------------------------+----------------------------------------+-------------------------+---------------------------+--------------------------------+----------------------------------+---------------+-----------------+---------------------------------------+-----------------------------------------+--------------------------------------------+----------------------------------------------+----------------------------+------------------------------+---------------------------------+-----------------------------------+-------------+---------------+--------------------+----------------------+-----------------------------+-------------------------------+--------------------------+----------------------------+-------------------+---------------------+-------------------+---------------------+-----------------------------+------------------------------------------+--------------------------------------------+------------------------------------------+--------------------------------------------+-----------------------------------------------------+-------------------------------------------------------+---------------------------------------------------------+-----------------------------------------------------------+--------------------------------+-------------------------------------------+----------------------------------------------+\n",
      "\n"
     ]
    }
   ],
   "source": [
    "df.limit(5).show()"
   ]
  },
  {
   "cell_type": "markdown",
   "metadata": {},
   "source": [
    "#### Head in the tabular format is the above one is kind of messy"
   ]
  },
  {
   "cell_type": "code",
   "execution_count": 32,
   "metadata": {
    "ExecuteTime": {
     "end_time": "2018-03-29T14:24:50.453341Z",
     "start_time": "2018-03-29T14:24:48.058996Z"
    }
   },
   "outputs": [
    {
     "data": {
      "text/html": [
       "<div>\n",
       "<style>\n",
       "    .dataframe thead tr:only-child th {\n",
       "        text-align: right;\n",
       "    }\n",
       "\n",
       "    .dataframe thead th {\n",
       "        text-align: left;\n",
       "    }\n",
       "\n",
       "    .dataframe tbody tr th {\n",
       "        vertical-align: top;\n",
       "    }\n",
       "</style>\n",
       "<table border=\"1\" class=\"dataframe\">\n",
       "  <thead>\n",
       "    <tr style=\"text-align: right;\">\n",
       "      <th></th>\n",
       "      <th>quoteid</th>\n",
       "      <th>businesstype</th>\n",
       "      <th>plansponsorid</th>\n",
       "      <th>plansponsorname</th>\n",
       "      <th>effectivedate</th>\n",
       "      <th>medtabcurrentexp_begindate</th>\n",
       "      <th>medtabcurrentexp_enddate</th>\n",
       "      <th>medtabpriorexp_begindate</th>\n",
       "      <th>medtabpriorexp_enddate</th>\n",
       "      <th>useexperienceonly</th>\n",
       "      <th>...</th>\n",
       "      <th>adjusted_pooling_charge_dollars_current_pmpm</th>\n",
       "      <th>adjusted_non_pooled_hcc_dollars_prior_pmpm</th>\n",
       "      <th>adjusted_non_pooled_hcc_dollars_current_pmpm</th>\n",
       "      <th>adjusted_exp_claims_without_pooling_charge_prior_pmpm</th>\n",
       "      <th>adjusted_exp_claims_without_pooling_charge_current_pmpm</th>\n",
       "      <th>adjusted_exp_claims_without_hcc_pooling_charge_prior_pmpm</th>\n",
       "      <th>adjusted_exp_claims_without_hcc_pooling_charge_current_pmpm</th>\n",
       "      <th>adjusted_experience_pmpm_blended</th>\n",
       "      <th>blended_claims_removing_pooling_charge_pmpm</th>\n",
       "      <th>blended_claims_without_hcc_pooling_charge_pmpm</th>\n",
       "    </tr>\n",
       "  </thead>\n",
       "  <tbody>\n",
       "    <tr>\n",
       "      <th>0</th>\n",
       "      <td>414142</td>\n",
       "      <td>P</td>\n",
       "      <td>15754454</td>\n",
       "      <td>THE RAE CORPORATION</td>\n",
       "      <td>2016-01-01</td>\n",
       "      <td>2014-07-01</td>\n",
       "      <td>2015-06-30</td>\n",
       "      <td>2013-07-01</td>\n",
       "      <td>2014-06-30</td>\n",
       "      <td>PriorExpAvailable</td>\n",
       "      <td>...</td>\n",
       "      <td>35.672504</td>\n",
       "      <td>0.000000</td>\n",
       "      <td>0.0</td>\n",
       "      <td>258.250560</td>\n",
       "      <td>194.488727</td>\n",
       "      <td>258.250560</td>\n",
       "      <td>194.488727</td>\n",
       "      <td>286.794831</td>\n",
       "      <td>242.310102</td>\n",
       "      <td>242.310102</td>\n",
       "    </tr>\n",
       "    <tr>\n",
       "      <th>1</th>\n",
       "      <td>429542</td>\n",
       "      <td>R</td>\n",
       "      <td>8433617</td>\n",
       "      <td>HARTZ MOUNTAIN INDUSTRIES, INC.</td>\n",
       "      <td>2016-07-01</td>\n",
       "      <td>2015-02-01</td>\n",
       "      <td>2016-01-31</td>\n",
       "      <td>2014-02-01</td>\n",
       "      <td>2015-01-31</td>\n",
       "      <td>PriorExpAvailable</td>\n",
       "      <td>...</td>\n",
       "      <td>37.562132</td>\n",
       "      <td>0.000000</td>\n",
       "      <td>0.0</td>\n",
       "      <td>341.666868</td>\n",
       "      <td>332.609632</td>\n",
       "      <td>341.666868</td>\n",
       "      <td>332.609632</td>\n",
       "      <td>378.042063</td>\n",
       "      <td>339.402559</td>\n",
       "      <td>339.402559</td>\n",
       "    </tr>\n",
       "    <tr>\n",
       "      <th>2</th>\n",
       "      <td>432342</td>\n",
       "      <td>R</td>\n",
       "      <td>92890696</td>\n",
       "      <td>LEADS INC</td>\n",
       "      <td>2016-10-01</td>\n",
       "      <td>2015-04-01</td>\n",
       "      <td>2016-01-31</td>\n",
       "      <td>0</td>\n",
       "      <td>0</td>\n",
       "      <td>ExperienceOnly</td>\n",
       "      <td>...</td>\n",
       "      <td>0.000000</td>\n",
       "      <td>96.170479</td>\n",
       "      <td>0.0</td>\n",
       "      <td>418.605202</td>\n",
       "      <td>0.000000</td>\n",
       "      <td>322.434723</td>\n",
       "      <td>0.000000</td>\n",
       "      <td>502.333084</td>\n",
       "      <td>418.605202</td>\n",
       "      <td>322.434723</td>\n",
       "    </tr>\n",
       "    <tr>\n",
       "      <th>3</th>\n",
       "      <td>432542</td>\n",
       "      <td>R</td>\n",
       "      <td>153835</td>\n",
       "      <td>KUHL CORP</td>\n",
       "      <td>2016-10-01</td>\n",
       "      <td>2015-10-01</td>\n",
       "      <td>2016-01-31</td>\n",
       "      <td>0</td>\n",
       "      <td>0</td>\n",
       "      <td>ExperienceOnly</td>\n",
       "      <td>...</td>\n",
       "      <td>0.000000</td>\n",
       "      <td>0.000000</td>\n",
       "      <td>0.0</td>\n",
       "      <td>196.424914</td>\n",
       "      <td>0.000000</td>\n",
       "      <td>196.424914</td>\n",
       "      <td>0.000000</td>\n",
       "      <td>229.463332</td>\n",
       "      <td>196.424914</td>\n",
       "      <td>196.424914</td>\n",
       "    </tr>\n",
       "    <tr>\n",
       "      <th>4</th>\n",
       "      <td>432742</td>\n",
       "      <td>R</td>\n",
       "      <td>80075723</td>\n",
       "      <td>LAGOS, INC.</td>\n",
       "      <td>2016-10-01</td>\n",
       "      <td>2015-02-01</td>\n",
       "      <td>2016-01-31</td>\n",
       "      <td>2014-02-01</td>\n",
       "      <td>2015-01-31</td>\n",
       "      <td>PriorExpAvailable</td>\n",
       "      <td>...</td>\n",
       "      <td>63.253728</td>\n",
       "      <td>0.000000</td>\n",
       "      <td>0.0</td>\n",
       "      <td>345.608986</td>\n",
       "      <td>390.610717</td>\n",
       "      <td>345.608986</td>\n",
       "      <td>390.610717</td>\n",
       "      <td>414.636792</td>\n",
       "      <td>356.859419</td>\n",
       "      <td>356.859419</td>\n",
       "    </tr>\n",
       "  </tbody>\n",
       "</table>\n",
       "<p>5 rows × 65 columns</p>\n",
       "</div>"
      ],
      "text/plain": [
       "   quoteid businesstype  plansponsorid                  plansponsorname  \\\n",
       "0   414142            P       15754454              THE RAE CORPORATION   \n",
       "1   429542            R        8433617  HARTZ MOUNTAIN INDUSTRIES, INC.   \n",
       "2   432342            R       92890696                        LEADS INC   \n",
       "3   432542            R         153835                        KUHL CORP   \n",
       "4   432742            R       80075723                      LAGOS, INC.   \n",
       "\n",
       "  effectivedate medtabcurrentexp_begindate medtabcurrentexp_enddate  \\\n",
       "0    2016-01-01                 2014-07-01               2015-06-30   \n",
       "1    2016-07-01                 2015-02-01               2016-01-31   \n",
       "2    2016-10-01                 2015-04-01               2016-01-31   \n",
       "3    2016-10-01                 2015-10-01               2016-01-31   \n",
       "4    2016-10-01                 2015-02-01               2016-01-31   \n",
       "\n",
       "  medtabpriorexp_begindate medtabpriorexp_enddate  useexperienceonly  \\\n",
       "0               2013-07-01             2014-06-30  PriorExpAvailable   \n",
       "1               2014-02-01             2015-01-31  PriorExpAvailable   \n",
       "2                        0                      0     ExperienceOnly   \n",
       "3                        0                      0     ExperienceOnly   \n",
       "4               2014-02-01             2015-01-31  PriorExpAvailable   \n",
       "\n",
       "                       ...                        \\\n",
       "0                      ...                         \n",
       "1                      ...                         \n",
       "2                      ...                         \n",
       "3                      ...                         \n",
       "4                      ...                         \n",
       "\n",
       "  adjusted_pooling_charge_dollars_current_pmpm  \\\n",
       "0                                    35.672504   \n",
       "1                                    37.562132   \n",
       "2                                     0.000000   \n",
       "3                                     0.000000   \n",
       "4                                    63.253728   \n",
       "\n",
       "  adjusted_non_pooled_hcc_dollars_prior_pmpm  \\\n",
       "0                                   0.000000   \n",
       "1                                   0.000000   \n",
       "2                                  96.170479   \n",
       "3                                   0.000000   \n",
       "4                                   0.000000   \n",
       "\n",
       "  adjusted_non_pooled_hcc_dollars_current_pmpm  \\\n",
       "0                                          0.0   \n",
       "1                                          0.0   \n",
       "2                                          0.0   \n",
       "3                                          0.0   \n",
       "4                                          0.0   \n",
       "\n",
       "  adjusted_exp_claims_without_pooling_charge_prior_pmpm  \\\n",
       "0                                         258.250560      \n",
       "1                                         341.666868      \n",
       "2                                         418.605202      \n",
       "3                                         196.424914      \n",
       "4                                         345.608986      \n",
       "\n",
       "  adjusted_exp_claims_without_pooling_charge_current_pmpm  \\\n",
       "0                                         194.488727        \n",
       "1                                         332.609632        \n",
       "2                                           0.000000        \n",
       "3                                           0.000000        \n",
       "4                                         390.610717        \n",
       "\n",
       "  adjusted_exp_claims_without_hcc_pooling_charge_prior_pmpm  \\\n",
       "0                                         258.250560          \n",
       "1                                         341.666868          \n",
       "2                                         322.434723          \n",
       "3                                         196.424914          \n",
       "4                                         345.608986          \n",
       "\n",
       "  adjusted_exp_claims_without_hcc_pooling_charge_current_pmpm  \\\n",
       "0                                         194.488727            \n",
       "1                                         332.609632            \n",
       "2                                           0.000000            \n",
       "3                                           0.000000            \n",
       "4                                         390.610717            \n",
       "\n",
       "  adjusted_experience_pmpm_blended  \\\n",
       "0                       286.794831   \n",
       "1                       378.042063   \n",
       "2                       502.333084   \n",
       "3                       229.463332   \n",
       "4                       414.636792   \n",
       "\n",
       "  blended_claims_removing_pooling_charge_pmpm  \\\n",
       "0                                  242.310102   \n",
       "1                                  339.402559   \n",
       "2                                  418.605202   \n",
       "3                                  196.424914   \n",
       "4                                  356.859419   \n",
       "\n",
       "  blended_claims_without_hcc_pooling_charge_pmpm  \n",
       "0                                     242.310102  \n",
       "1                                     339.402559  \n",
       "2                                     322.434723  \n",
       "3                                     196.424914  \n",
       "4                                     356.859419  \n",
       "\n",
       "[5 rows x 65 columns]"
      ]
     },
     "execution_count": 32,
     "metadata": {},
     "output_type": "execute_result"
    }
   ],
   "source": [
    "df.limit(5).toPandas()"
   ]
  },
  {
   "cell_type": "markdown",
   "metadata": {},
   "source": [
    "#### Check for the schema and datatypes of all attributes"
   ]
  },
  {
   "cell_type": "code",
   "execution_count": 41,
   "metadata": {
    "ExecuteTime": {
     "end_time": "2018-03-29T14:28:07.595662Z",
     "start_time": "2018-03-29T14:28:07.566217Z"
    },
    "scrolled": true
   },
   "outputs": [
    {
     "name": "stdout",
     "output_type": "stream",
     "text": [
      "root\n",
      " |-- quoteid: integer (nullable = true)\n",
      " |-- businesstype: string (nullable = true)\n",
      " |-- plansponsorid: integer (nullable = true)\n",
      " |-- plansponsorname: string (nullable = true)\n",
      " |-- effectivedate: timestamp (nullable = true)\n",
      " |-- medtabcurrentexp_begindate: string (nullable = true)\n",
      " |-- medtabcurrentexp_enddate: string (nullable = true)\n",
      " |-- medtabpriorexp_begindate: string (nullable = true)\n",
      " |-- medtabpriorexp_enddate: string (nullable = true)\n",
      " |-- useexperienceonly: string (nullable = true)\n",
      " |-- renewal_currentperiod_startdate: string (nullable = true)\n",
      " |-- renewal_currentperiod_enddate: string (nullable = true)\n",
      " |-- renewal_priorperiod_startdate: string (nullable = true)\n",
      " |-- renewal_priorperiod_enddate: string (nullable = true)\n",
      " |-- priorcarrier_currentperiod_startdate: string (nullable = true)\n",
      " |-- priorcarrier_currentperiod_enddate: string (nullable = true)\n",
      " |-- priorcarrier_priorperiod_startdate: string (nullable = true)\n",
      " |-- priorcarrier_priorperiod_enddate: string (nullable = true)\n",
      " |-- addntlpop_currentperiod_startdate: string (nullable = true)\n",
      " |-- addntlpop_currentperiod_enddate: string (nullable = true)\n",
      " |-- addntlpop_priorperiod_startdate: string (nullable = true)\n",
      " |-- addntlpop_priorperiod_enddate: string (nullable = true)\n",
      " |-- experience_credibility_weight_rx: double (nullable = true)\n",
      " |-- experience_credibility_weight_medicalcap: double (nullable = true)\n",
      " |-- experience_credibility_weight_hra: double (nullable = true)\n",
      " |-- total_incurred_net_pooled_claims_prior: float (nullable = true)\n",
      " |-- total_incurred_net_pooled_claims_current: float (nullable = true)\n",
      " |-- total_member_months_prior: double (nullable = true)\n",
      " |-- total_member_months_current: double (nullable = true)\n",
      " |-- total_incurred_claims_pmpm_prior: double (nullable = true)\n",
      " |-- total_incurred_claims_pmpm_current: double (nullable = true)\n",
      " |-- hcc_count_prior: long (nullable = true)\n",
      " |-- hcc_count_current: long (nullable = true)\n",
      " |-- non_pooled_high_claimaint_dollars_prior: double (nullable = true)\n",
      " |-- non_pooled_high_claimaint_dollars_current: double (nullable = true)\n",
      " |-- non_pooled_high_claimaint_dollars_pmpm_prior: double (nullable = true)\n",
      " |-- non_pooled_high_claimaint_dollars_pmpm_current: double (nullable = true)\n",
      " |-- pooling_charge_dollars_prior: float (nullable = true)\n",
      " |-- pooling_charge_dollars_current: float (nullable = true)\n",
      " |-- pooling_charge_dollars_pmpm_prior: double (nullable = true)\n",
      " |-- pooling_charge_dollars_pmpm_current: double (nullable = true)\n",
      " |-- weights_prior: double (nullable = true)\n",
      " |-- weights_current: double (nullable = true)\n",
      " |-- pooling_charge_prior: float (nullable = true)\n",
      " |-- pooling_charge_current: float (nullable = true)\n",
      " |-- total_adjexpclaims_pmpm_prior: double (nullable = true)\n",
      " |-- total_adjexpclaims_pmpm_current: double (nullable = true)\n",
      " |-- factor_change_claims_prior: double (nullable = true)\n",
      " |-- factor_change_claims_current: double (nullable = true)\n",
      " |-- pooled_claims_prior: double (nullable = true)\n",
      " |-- pooled_claims_current: double (nullable = true)\n",
      " |-- pooling_point_prior: double (nullable = true)\n",
      " |-- pooling_point_current: double (nullable = true)\n",
      " |-- blended_projected_claims_pmpm: double (nullable = true)\n",
      " |-- adjusted_pooling_charge_dollars_prior_pmpm: double (nullable = true)\n",
      " |-- adjusted_pooling_charge_dollars_current_pmpm: double (nullable = true)\n",
      " |-- adjusted_non_pooled_hcc_dollars_prior_pmpm: double (nullable = true)\n",
      " |-- adjusted_non_pooled_hcc_dollars_current_pmpm: double (nullable = true)\n",
      " |-- adjusted_exp_claims_without_pooling_charge_prior_pmpm: double (nullable = true)\n",
      " |-- adjusted_exp_claims_without_pooling_charge_current_pmpm: double (nullable = true)\n",
      " |-- adjusted_exp_claims_without_hcc_pooling_charge_prior_pmpm: double (nullable = true)\n",
      " |-- adjusted_exp_claims_without_hcc_pooling_charge_current_pmpm: double (nullable = true)\n",
      " |-- adjusted_experience_pmpm_blended: double (nullable = true)\n",
      " |-- blended_claims_removing_pooling_charge_pmpm: double (nullable = true)\n",
      " |-- blended_claims_without_hcc_pooling_charge_pmpm: double (nullable = true)\n",
      "\n"
     ]
    }
   ],
   "source": [
    "df.printSchema()"
   ]
  },
  {
   "cell_type": "markdown",
   "metadata": {},
   "source": [
    "#### Filtering over a column"
   ]
  },
  {
   "cell_type": "code",
   "execution_count": 43,
   "metadata": {
    "ExecuteTime": {
     "end_time": "2018-03-29T14:32:15.142999Z",
     "start_time": "2018-03-29T14:32:15.127604Z"
    },
    "collapsed": true,
    "scrolled": false
   },
   "outputs": [],
   "source": [
    "qt1=df \\\n",
    "    .filter(col('quoteid') == '444417')"
   ]
  },
  {
   "cell_type": "markdown",
   "metadata": {},
   "source": [
    "#### You can always add more filters like that in new line but they all work as an AND filters"
   ]
  },
  {
   "cell_type": "code",
   "execution_count": 45,
   "metadata": {
    "ExecuteTime": {
     "end_time": "2018-03-29T14:33:53.007098Z",
     "start_time": "2018-03-29T14:33:52.980944Z"
    },
    "collapsed": true
   },
   "outputs": [],
   "source": [
    "qt1 = df \\\n",
    "    .filter(col('quoteid') == '444416') \\\n",
    "    .filter(col('total_incurred_net_pooled_claims_prior') > 100)"
   ]
  },
  {
   "cell_type": "markdown",
   "metadata": {},
   "source": [
    "#### Adding multiple filters inside one filter condition using OR or AND"
   ]
  },
  {
   "cell_type": "code",
   "execution_count": 46,
   "metadata": {
    "ExecuteTime": {
     "end_time": "2018-03-29T14:35:04.576562Z",
     "start_time": "2018-03-29T14:35:04.543224Z"
    },
    "collapsed": true
   },
   "outputs": [],
   "source": [
    "qt1 = df \\\n",
    "    .filter((col('quoteid')=='444417')&(col('total_incurred_net_pooled_claims_prior') > 100))\n",
    "    \n",
    "qt1 = df \\\n",
    "    .filter((col('quoteid')=='444417')|(col('total_incurred_net_pooled_claims_prior') > 100))\n"
   ]
  },
  {
   "cell_type": "markdown",
   "metadata": {},
   "source": [
    "#### Using like and isin inside filter"
   ]
  },
  {
   "cell_type": "code",
   "execution_count": 52,
   "metadata": {
    "ExecuteTime": {
     "end_time": "2018-03-29T14:38:49.500136Z",
     "start_time": "2018-03-29T14:38:48.827328Z"
    }
   },
   "outputs": [
    {
     "name": "stdout",
     "output_type": "stream",
     "text": [
      "+-------+\n",
      "|quoteid|\n",
      "+-------+\n",
      "| 444233|\n",
      "| 424441|\n",
      "| 534441|\n",
      "| 434442|\n",
      "| 534442|\n",
      "+-------+\n",
      "\n"
     ]
    }
   ],
   "source": [
    "qt1 = df \\\n",
    "    .filter(col('quoteid').like('%444%'))\n",
    "    \n",
    "qt1.select('quoteid').limit(5).show()    "
   ]
  },
  {
   "cell_type": "code",
   "execution_count": 53,
   "metadata": {
    "ExecuteTime": {
     "end_time": "2018-03-29T14:39:37.310058Z",
     "start_time": "2018-03-29T14:39:36.216190Z"
    }
   },
   "outputs": [
    {
     "name": "stdout",
     "output_type": "stream",
     "text": [
      "+-------+\n",
      "|quoteid|\n",
      "+-------+\n",
      "| 444417|\n",
      "+-------+\n",
      "\n"
     ]
    }
   ],
   "source": [
    "df.filter(col('quoteid').isin('444417','430018')).select('quoteid').show()"
   ]
  },
  {
   "cell_type": "markdown",
   "metadata": {},
   "source": [
    "#### Selecting a column or couple of column using select()"
   ]
  },
  {
   "cell_type": "code",
   "execution_count": 54,
   "metadata": {
    "ExecuteTime": {
     "end_time": "2018-03-29T14:41:05.108869Z",
     "start_time": "2018-03-29T14:41:05.018703Z"
    }
   },
   "outputs": [
    {
     "name": "stdout",
     "output_type": "stream",
     "text": [
      "+-------+------------+\n",
      "|quoteid|businesstype|\n",
      "+-------+------------+\n",
      "| 422031|           R|\n",
      "| 423631|           R|\n",
      "+-------+------------+\n",
      "\n"
     ]
    }
   ],
   "source": [
    "df.select('quoteid','businesstype').limit(2).show()"
   ]
  },
  {
   "cell_type": "markdown",
   "metadata": {},
   "source": [
    "#### Add a new calculative column using withColumn\n",
    "*  We always use \"\\\" to go to new line and \".\" to start the function name\n",
    "*  Use col() to wrap column names inside that as it will allow us to call specific functions on targeted column names, you can write it another way but I prefer to write it this way"
   ]
  },
  {
   "cell_type": "code",
   "execution_count": 58,
   "metadata": {
    "ExecuteTime": {
     "end_time": "2018-03-29T15:03:18.180357Z",
     "start_time": "2018-03-29T15:03:17.385519Z"
    }
   },
   "outputs": [
    {
     "name": "stdout",
     "output_type": "stream",
     "text": [
      "+-------+------------+---------+\n",
      "|quoteid|businesstype|     cols|\n",
      "+-------+------------+---------+\n",
      "| 444417|           R|R-shubham|\n",
      "+-------+------------+---------+\n",
      "\n"
     ]
    }
   ],
   "source": [
    "df \\\n",
    "    .filter(col('quoteid') == '444417') \\\n",
    "    .filter(col('businesstype').isin('P','R')) \\\n",
    "    .select('quoteid','businesstype') \\\n",
    "    .withColumn('cols',concat_ws('-',col('businesstype'),lit(\"shubham\"))) \\\n",
    "    .limit(5).show()"
   ]
  },
  {
   "cell_type": "markdown",
   "metadata": {},
   "source": [
    "#### renaming an existing column using withColumnRenamed()"
   ]
  },
  {
   "cell_type": "code",
   "execution_count": 60,
   "metadata": {
    "ExecuteTime": {
     "end_time": "2018-03-29T15:05:42.712100Z",
     "start_time": "2018-03-29T15:05:41.925554Z"
    }
   },
   "outputs": [
    {
     "name": "stdout",
     "output_type": "stream",
     "text": [
      "+-------+--------------------+\n",
      "|quoteid|businesstype_renamed|\n",
      "+-------+--------------------+\n",
      "| 444417|                   R|\n",
      "+-------+--------------------+\n",
      "\n"
     ]
    }
   ],
   "source": [
    "df \\\n",
    "    .filter(col('quoteid') == '444417') \\\n",
    "    .filter(col('businesstype').isin('P','R')) \\\n",
    "    .select('quoteid','businesstype') \\\n",
    "    .withColumnRenamed('businesstype','businesstype_renamed') \\\n",
    "    .limit(5).show()"
   ]
  },
  {
   "cell_type": "markdown",
   "metadata": {},
   "source": [
    "#### Grouping by things and see the aggregated stuff"
   ]
  },
  {
   "cell_type": "code",
   "execution_count": 66,
   "metadata": {
    "ExecuteTime": {
     "end_time": "2018-03-29T15:11:58.360402Z",
     "start_time": "2018-03-29T15:11:56.278745Z"
    }
   },
   "outputs": [
    {
     "data": {
      "text/html": [
       "<div>\n",
       "<style>\n",
       "    .dataframe thead tr:only-child th {\n",
       "        text-align: right;\n",
       "    }\n",
       "\n",
       "    .dataframe thead th {\n",
       "        text-align: left;\n",
       "    }\n",
       "\n",
       "    .dataframe tbody tr th {\n",
       "        vertical-align: top;\n",
       "    }\n",
       "</style>\n",
       "<table border=\"1\" class=\"dataframe\">\n",
       "  <thead>\n",
       "    <tr style=\"text-align: right;\">\n",
       "      <th></th>\n",
       "      <th>businesstype</th>\n",
       "      <th>NoOfQuoteid</th>\n",
       "      <th>NoOfDistinctQuoteid</th>\n",
       "      <th>max_eff_date</th>\n",
       "      <th>min_eff_date</th>\n",
       "      <th>pooling_charge_list</th>\n",
       "      <th>pooling_charge_set</th>\n",
       "      <th>businesstype_Rename</th>\n",
       "      <th>pooling_charge_list_size</th>\n",
       "      <th>pooling_charge_set_size</th>\n",
       "    </tr>\n",
       "  </thead>\n",
       "  <tbody>\n",
       "    <tr>\n",
       "      <th>0</th>\n",
       "      <td>R</td>\n",
       "      <td>8945</td>\n",
       "      <td>8945</td>\n",
       "      <td>2018-06-01</td>\n",
       "      <td>2016-01-01</td>\n",
       "      <td>[1.14975214005, 1.10130286217, 1.11286520958, ...</td>\n",
       "      <td>[1.14975214005, 1.10130286217, 1.11286520958, ...</td>\n",
       "      <td>R-shubham</td>\n",
       "      <td>7616</td>\n",
       "      <td>5967</td>\n",
       "    </tr>\n",
       "    <tr>\n",
       "      <th>1</th>\n",
       "      <td>P</td>\n",
       "      <td>869</td>\n",
       "      <td>869</td>\n",
       "      <td>2018-07-01</td>\n",
       "      <td>2015-10-01</td>\n",
       "      <td>[1.08126020432, 0.0, 0.0, 0.0, 1.11880099773, ...</td>\n",
       "      <td>[1.08126020432, 0.0, 1.11880099773, 1.09500968...</td>\n",
       "      <td>P-shubham</td>\n",
       "      <td>239</td>\n",
       "      <td>130</td>\n",
       "    </tr>\n",
       "  </tbody>\n",
       "</table>\n",
       "</div>"
      ],
      "text/plain": [
       "  businesstype  NoOfQuoteid  NoOfDistinctQuoteid max_eff_date min_eff_date  \\\n",
       "0            R         8945                 8945   2018-06-01   2016-01-01   \n",
       "1            P          869                  869   2018-07-01   2015-10-01   \n",
       "\n",
       "                                 pooling_charge_list  \\\n",
       "0  [1.14975214005, 1.10130286217, 1.11286520958, ...   \n",
       "1  [1.08126020432, 0.0, 0.0, 0.0, 1.11880099773, ...   \n",
       "\n",
       "                                  pooling_charge_set businesstype_Rename  \\\n",
       "0  [1.14975214005, 1.10130286217, 1.11286520958, ...           R-shubham   \n",
       "1  [1.08126020432, 0.0, 1.11880099773, 1.09500968...           P-shubham   \n",
       "\n",
       "   pooling_charge_list_size  pooling_charge_set_size  \n",
       "0                      7616                     5967  \n",
       "1                       239                      130  "
      ]
     },
     "execution_count": 66,
     "metadata": {},
     "output_type": "execute_result"
    }
   ],
   "source": [
    "df \\\n",
    "    .groupBy('businesstype') \\\n",
    "    .agg(*[\n",
    "        count('quoteid').alias('NoOfQuoteid'),\n",
    "        countDistinct('quoteid').alias('NoOfDistinctQuoteid'),\n",
    "        max('effectivedate').alias('max_eff_date'),\n",
    "        min('effectivedate').alias('min_eff_date'),\n",
    "        collect_list('pooling_charge_prior').alias('pooling_charge_list'),\n",
    "        collect_set('pooling_charge_prior').alias('pooling_charge_set')\n",
    "    ]) \\\n",
    "    .withColumn('businesstype_Rename',concat_ws('-',col('businesstype'),lit(\"shubham\"))) \\\n",
    "    .withColumn('pooling_charge_list_size',size('pooling_charge_list')) \\\n",
    "    .withColumn('pooling_charge_set_size',size('pooling_charge_set')) \\\n",
    "    .limit(5).toPandas()"
   ]
  },
  {
   "cell_type": "markdown",
   "metadata": {},
   "source": [
    "#### Joining dataframes"
   ]
  },
  {
   "cell_type": "code",
   "execution_count": 67,
   "metadata": {
    "ExecuteTime": {
     "end_time": "2018-03-29T15:14:09.034920Z",
     "start_time": "2018-03-29T15:14:01.975215Z"
    }
   },
   "outputs": [
    {
     "name": "stdout",
     "output_type": "stream",
     "text": [
      "869\n",
      "869\n"
     ]
    }
   ],
   "source": [
    "# create a new dataframe\n",
    "qt1 = df \\\n",
    "    .filter(col('businesstype') == 'P')\n",
    "    \n",
    "join = df \\\n",
    "    .join(qt1,on=['quoteid'],how='inner')\n",
    "    \n",
    "join = df \\\n",
    "    .join(qt1,on=[df['quoteid1'] == qt1['quoteid2']],how='inner') \\\n",
    "    .drop(df['quoteid1']) \\\n",
    "    .withColumnRenamed('quoteid2','quoteid')\n",
    "    \n",
    "print qt1.count()\n",
    "print join.count()"
   ]
  },
  {
   "cell_type": "markdown",
   "metadata": {},
   "source": [
    "### pivot in pyspark"
   ]
  },
  {
   "cell_type": "code",
   "execution_count": null,
   "metadata": {
    "collapsed": true
   },
   "outputs": [],
   "source": [
    "income_1=income.groupby('fips','state_county','market','sub_market','status').pivot('income_group').sum('Prospects')"
   ]
  },
  {
   "cell_type": "markdown",
   "metadata": {},
   "source": [
    "#### Union a datsframe, in spark veriosn 1.6 we don't have union functionality, we use unionall"
   ]
  },
  {
   "cell_type": "code",
   "execution_count": 68,
   "metadata": {
    "ExecuteTime": {
     "end_time": "2018-03-29T15:15:03.381552Z",
     "start_time": "2018-03-29T15:15:02.686548Z"
    }
   },
   "outputs": [
    {
     "name": "stdout",
     "output_type": "stream",
     "text": [
      "10683\n"
     ]
    }
   ],
   "source": [
    "unionall = df.unionAll(qt1)\n",
    "\n",
    "print unionall.count()"
   ]
  },
  {
   "cell_type": "markdown",
   "metadata": {},
   "source": [
    "#### Write things back to hive"
   ]
  },
  {
   "cell_type": "code",
   "execution_count": 70,
   "metadata": {
    "ExecuteTime": {
     "end_time": "2018-03-29T15:17:10.512662Z",
     "start_time": "2018-03-29T15:17:10.508890Z"
    },
    "collapsed": true
   },
   "outputs": [],
   "source": [
    "#hc.sql('create table db.tablename as ORC select * from \"temptable')"
   ]
  },
  {
   "cell_type": "code",
   "execution_count": null,
   "metadata": {
    "collapsed": true
   },
   "outputs": [],
   "source": []
  },
  {
   "cell_type": "markdown",
   "metadata": {
    "ExecuteTime": {
     "end_time": "2018-03-29T15:17:50.558190Z",
     "start_time": "2018-03-29T15:17:50.549041Z"
    }
   },
   "source": [
    "#### Want help visit\n",
    "    *  http://spark.apache.org/docs/2.1.0/api/python/pyspark.sql.html"
   ]
  },
  {
   "cell_type": "markdown",
   "metadata": {},
   "source": [
    "### converting pandas frame to pyspark frame"
   ]
  },
  {
   "cell_type": "code",
   "execution_count": null,
   "metadata": {
    "collapsed": true
   },
   "outputs": [],
   "source": [
    "schema=StructType([\n",
    "        StructField('fips2',IntegerType(),True),\n",
    "        StructField('aepyear',IntegerType(),True),\n",
    "    StructField('market',StringType(),True),\n",
    "    StructField('submarket',StringType(),True),\n",
    "    StructField('st_county',StringType(),True),\n",
    "    StructField('status',StringType(),True),\n",
    "    StructField('competitor_population',FloatType(),True),\n",
    "    StructField('disruption_5',IntegerType(),True),\n",
    "    StructField('disrupted',IntegerType(),True),\n",
    "    StructField('aep_sales',IntegerType(),True),\n",
    "    StructField('aetna_rank',IntegerType(),True),\n",
    "    StructField('aep_leads',FloatType(),True),\n",
    "    StructField('aep_mktg_sales',IntegerType(),True),\n",
    "    StructField('spend',FloatType(),True),\n",
    "    StructField('medicare_eligibles',FloatType(),True),\n",
    "    StructField('ci',FloatType(),True),\n",
    "    StructField('ci_change',FloatType(),True),\n",
    "    StructField('aetna_moop_minus_comp',FloatType(),True),\n",
    "    StructField('aetna_moop',FloatType(),True),\n",
    "    StructField('yoy_rank_change_1',FloatType(),True),\n",
    "    StructField('competitor_moop',FloatType(),True),\n",
    "    StructField('calls',FloatType(),True),\n",
    "    StructField('lis_population',FloatType(),True),\n",
    "    StructField('pf_group',StringType(),True),\n",
    "    StructField('responses',FloatType(),True)\n",
    "    ])\n",
    "aep2020_ps=hc.createDataFrame(aep_2020,schema=schema)"
   ]
  },
  {
   "cell_type": "markdown",
   "metadata": {},
   "source": [
    "### writing pandas frame to excel"
   ]
  },
  {
   "cell_type": "code",
   "execution_count": null,
   "metadata": {
    "collapsed": true
   },
   "outputs": [],
   "source": [
    "writer=pd.ExcelWriter('raw_data_v3.xlsx')\n",
    "final_2.to_excel(writer,'sheet1')\n",
    "writer.save()"
   ]
  },
  {
   "cell_type": "markdown",
   "metadata": {},
   "source": [
    "### writing data to hive"
   ]
  },
  {
   "cell_type": "code",
   "execution_count": null,
   "metadata": {
    "collapsed": true
   },
   "outputs": [],
   "source": [
    "# AEP 2019 Sample\n",
    "def createHiveTable(sqlContext, tableName, col_dtypes, drop=False):\n",
    "    if drop == True:\n",
    "        sqlContext.sql('DROP TABLE IF EXISTS ' + tableName)\n",
    "        pass\n",
    "    sqlCreate = 'CREATE TABLE ' + tableName + ' (\\n' +  ',\\n'.join([ f + '\\t' + t.upper() for (f, t) in col_dtypes ]) + ') \\\n",
    "                STORED AS TEXTFILE'\n",
    "    ## add partition by argument here\n",
    "    sqlContext.sql(sqlCreate)\n",
    "\n",
    "#Wrting Into Hive\n",
    "table_count_features = 'dev_ca_medicare_enc.acq_v4_AEP2019_new18'\n",
    "\n",
    "# Creating a new table (and dropping the old table)\n",
    "createHiveTable(sqlContext, table_count_features, AEP2019_UPDATE.dtypes, True)\n",
    "\n",
    "# Writing data into the table\n",
    "AEP2019_UPDATE \\\n",
    "    .write \\\n",
    "    .mode('overwrite') \\\n",
    "    .insertInto(table_count_features)"
   ]
  },
  {
   "cell_type": "markdown",
   "metadata": {},
   "source": [
    "### getting distribution stats "
   ]
  },
  {
   "cell_type": "code",
   "execution_count": null,
   "metadata": {
    "collapsed": true
   },
   "outputs": [],
   "source": [
    "def dataset_stats(a):\n",
    "    a=a.select('ce_consumer_stability_index1','medrentp1','aetna_penetration','comp_avg_med_star','aet_avg_premium'\\\n",
    "                            ,'aet_avg_drug_star','aet_avg_moop','age','aet_avg_network_phy','comp_avg_star'\\\n",
    "                            ,'comp_avg_moop','comp_avg_premium','comp_avg_network_phy','comp_avg_drug_star'\\\n",
    "                            ,'ge_alspmailorderbuyer_20101','medvalue1','phv300kp1','findc','ce_wealthfinder_cd'\\\n",
    "                           ,'ge_alsmedianwealth_2010','ce_home_value_cd','ce_expendable_income_rank_cd'\\\n",
    "                           ,'pf_rank','cc_spoken_language1','ce_sel_indiv_mari_stus_cd'\\\n",
    "                            ,'ce_home_equity_estimate_cd','tw_organic_food_store1','lower_equity','ce_organic_food_model1'\\\n",
    "                          ,'ce_family_income_det_range','hohagecode')\n",
    "    b=a.describe()\n",
    "\n",
    "    rows=a.count()\n",
    "\n",
    "    summary = b.filter(col('summary')=='count')\n",
    "\n",
    "    summary1=summary.select(*((lit(rows)-col(c)).alias(c) for c in b.columns))\n",
    "\n",
    "    summary1=summary1.withColumn('summary',when(col('summary').isNull(),'miss').otherwise('miss'))\n",
    "\n",
    "    b=b.unionAll(summary1)\n",
    "\n",
    "    return b"
   ]
  },
  {
   "cell_type": "markdown",
   "metadata": {},
   "source": [
    "## filter pandas column names"
   ]
  },
  {
   "cell_type": "code",
   "execution_count": null,
   "metadata": {
    "collapsed": true
   },
   "outputs": [],
   "source": [
    "cat_feature_elite = [f for f in feature_elite if raw.dtypes[f]=='object']"
   ]
  },
  {
   "cell_type": "markdown",
   "metadata": {},
   "source": [
    "## sort and then take the first value"
   ]
  },
  {
   "cell_type": "code",
   "execution_count": null,
   "metadata": {
    "collapsed": true
   },
   "outputs": [],
   "source": [
    "sales_features_sorted_ppo=final_pd_ppo.sort_values(['data_flag','fips','pf_rank'])\n"
   ]
  },
  {
   "cell_type": "code",
   "execution_count": null,
   "metadata": {
    "collapsed": true
   },
   "outputs": [],
   "source": [
    "sales_features_ppo=sales_features_sorted_ppo.groupby(['data_flag','fips']).first().reset_index()"
   ]
  }
 ],
 "metadata": {
  "kernelspec": {
   "display_name": "Python 2",
   "language": "python",
   "name": "python2"
  },
  "language_info": {
   "codemirror_mode": {
    "name": "ipython",
    "version": 2
   },
   "file_extension": ".py",
   "mimetype": "text/x-python",
   "name": "python",
   "nbconvert_exporter": "python",
   "pygments_lexer": "ipython2",
   "version": "2.7.13"
  },
  "toc": {
   "nav_menu": {},
   "number_sections": true,
   "sideBar": true,
   "skip_h1_title": false,
   "title_cell": "Table of Contents",
   "title_sidebar": "Contents",
   "toc_cell": true,
   "toc_position": {},
   "toc_section_display": true,
   "toc_window_display": false
  }
 },
 "nbformat": 4,
 "nbformat_minor": 2
}
